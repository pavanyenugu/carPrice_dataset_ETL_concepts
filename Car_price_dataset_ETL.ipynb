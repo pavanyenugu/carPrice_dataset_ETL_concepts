{
 "cells": [
  {
   "cell_type": "code",
   "execution_count": 21,
   "id": "8f348701",
   "metadata": {},
   "outputs": [],
   "source": [
    "#A simple Python script to extract data from a CSV file, \n",
    "#transform it (e.g., clean/aggregate), \n",
    "#and save it to a database or another file."
   ]
  },
  {
   "cell_type": "code",
   "execution_count": 30,
   "id": "645821b7",
   "metadata": {},
   "outputs": [
    {
     "name": "stdout",
     "output_type": "stream",
     "text": [
      "        Brand   Model  Year  Engine_Size Fuel_Type    Transmission  Mileage  \\\n",
      "0         Kia     Rio  2020          4.2    Diesel          Manual   289944   \n",
      "1   Chevrolet  Malibu  2012          2.0    Hybrid       Automatic     5356   \n",
      "2    Mercedes     GLA  2020          4.2    Diesel       Automatic   231440   \n",
      "3        Audi      Q5  2023          2.0  Electric          Manual   160971   \n",
      "4  Volkswagen    Golf  2003          2.6    Hybrid  Semi-Automatic   286618   \n",
      "\n",
      "   Doors  Owner_Count  Price  \n",
      "0      3            5   8501  \n",
      "1      2            3  12092  \n",
      "2      4            2  11171  \n",
      "3      2            1  11780  \n",
      "4      3            3   2867  \n"
     ]
    }
   ],
   "source": [
    "import pandas as pd\n",
    "import sqlite3  # For database loading\n",
    "\n",
    "# Step 1: Extract - Read CSV File\n",
    "input_file = \"/Users/sripavanyenugu/Downloads/car_price_dataset.csv\"  \n",
    "df = pd.read_csv(input_file)\n",
    "print(df.head())"
   ]
  },
  {
   "cell_type": "code",
   "execution_count": 31,
   "id": "48282820",
   "metadata": {},
   "outputs": [],
   "source": [
    "# Step 2: Transform - Clean & Aggregate Data\n",
    "df.dropna(inplace=True)  # Remove missing values\n",
    "df[\"Total_sale_ammount\"] = df[\"Owner_Count\"] * df[\"Price\"]  # Add new column\n",
    "df_grouped = df.groupby(\"Brand\")[[\"Mileage\"]].sum().reset_index()  # Aggregate sales by category\n"
   ]
  },
  {
   "cell_type": "code",
   "execution_count": 32,
   "id": "f78601b0",
   "metadata": {},
   "outputs": [
    {
     "name": "stdout",
     "output_type": "stream",
     "text": [
      "Transformed data saved to transformed_data.csv\n",
      "        Brand   Model  Year  Engine_Size Fuel_Type    Transmission  Mileage  \\\n",
      "0         Kia     Rio  2020          4.2    Diesel          Manual   289944   \n",
      "1   Chevrolet  Malibu  2012          2.0    Hybrid       Automatic     5356   \n",
      "2    Mercedes     GLA  2020          4.2    Diesel       Automatic   231440   \n",
      "3        Audi      Q5  2023          2.0  Electric          Manual   160971   \n",
      "4  Volkswagen    Golf  2003          2.6    Hybrid  Semi-Automatic   286618   \n",
      "\n",
      "   Doors  Owner_Count  Price  Total_sale_ammount  \n",
      "0      3            5   8501               42505  \n",
      "1      2            3  12092               36276  \n",
      "2      4            2  11171               22342  \n",
      "3      2            1  11780               11780  \n",
      "4      3            3   2867                8601  \n"
     ]
    }
   ],
   "source": [
    "# Step 3: Load - Save to a New CSV File\n",
    "output_file = \"transformed_data.csv\"\n",
    "df_grouped.to_csv(output_file, index=False)\n",
    "print(f\"Transformed data saved to {output_file}\")\n",
    "\n",
    "print(df.head())"
   ]
  },
  {
   "cell_type": "code",
   "execution_count": 34,
   "id": "82c92c13",
   "metadata": {},
   "outputs": [
    {
     "name": "stdout",
     "output_type": "stream",
     "text": [
      "Data loaded into SQLite database.\n"
     ]
    }
   ],
   "source": [
    "#Load into SQLite Database\n",
    "conn = sqlite3.connect(\"etl_database.db\")  # Create a database\n",
    "df_grouped.to_sql(\"sales_summary\", conn, if_exists=\"replace\", index=False)\n",
    "print(\"Data loaded into SQLite database.\")\n",
    "conn.close()"
   ]
  },
  {
   "cell_type": "code",
   "execution_count": null,
   "id": "0dca5fc7",
   "metadata": {},
   "outputs": [],
   "source": []
  },
  {
   "cell_type": "code",
   "execution_count": 28,
   "id": "9ef5aa7a",
   "metadata": {},
   "outputs": [],
   "source": [
    "\n"
   ]
  },
  {
   "cell_type": "code",
   "execution_count": null,
   "id": "ac87571b",
   "metadata": {},
   "outputs": [],
   "source": []
  }
 ],
 "metadata": {
  "kernelspec": {
   "display_name": "Python 3 (ipykernel)",
   "language": "python",
   "name": "python3"
  },
  "language_info": {
   "codemirror_mode": {
    "name": "ipython",
    "version": 3
   },
   "file_extension": ".py",
   "mimetype": "text/x-python",
   "name": "python",
   "nbconvert_exporter": "python",
   "pygments_lexer": "ipython3",
   "version": "3.11.4"
  }
 },
 "nbformat": 4,
 "nbformat_minor": 5
}
